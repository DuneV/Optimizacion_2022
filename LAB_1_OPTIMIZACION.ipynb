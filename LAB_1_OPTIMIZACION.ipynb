{
 "cells": [
  {
   "cell_type": "markdown",
   "metadata": {},
   "source": [
    "# Laboratorio de Optimización"
   ]
  },
  {
   "cell_type": "code",
   "execution_count": 40,
   "metadata": {},
   "outputs": [],
   "source": [
    "reset"
   ]
  },
  {
   "cell_type": "markdown",
   "metadata": {},
   "source": [
    "- Importación de Paquetes"
   ]
  },
  {
   "cell_type": "code",
   "execution_count": 53,
   "metadata": {},
   "outputs": [],
   "source": [
    "# importacion de paquetes de produccion\n",
    "import numpy as np\n",
    "import matplotlib.pyplot as plt\n",
    "import simupy\n",
    "from scipy import signal\n",
    "from fractions import Fraction\n",
    "from tkinter import *\n",
    "from tkinter import ttk"
   ]
  },
  {
   "cell_type": "markdown",
   "metadata": {},
   "source": [
    "- Primer punto"
   ]
  },
  {
   "cell_type": "code",
   "execution_count": 54,
   "metadata": {},
   "outputs": [],
   "source": [
    "# creacion de matrices de n x m con vacancias con D. normal. Ejemplo\n",
    "n = 50\n",
    "index = np.random.normal(0,1,n)\n",
    "index2 = np.random.normal(0,1,n)\n",
    "\n",
    "b1 = np.array(index)\n",
    "b2 = np.array(index2)\n",
    "\n",
    "M1 = np.zeros((5,5), dtype = float, order = 'C')\n",
    "M2 = np.zeros((5,5), dtype = float, order = 'C')\n",
    "\n",
    "[f, c] = M1.shape\n",
    "\n",
    "z = 0\n",
    "ave = np.zeros(f)\n",
    "for i in range(f):\n",
    "    for j in range(c):\n",
    "        M1[i, j] = b1[z]\n",
    "        M2[i, j] = b2[z]\n",
    "        z = z + 1"
   ]
  },
  {
   "cell_type": "markdown",
   "metadata": {},
   "source": [
    "a."
   ]
  },
  {
   "cell_type": "code",
   "execution_count": 55,
   "metadata": {},
   "outputs": [
    {
     "name": "stdout",
     "output_type": "stream",
     "text": [
      "[[-0.57091713 -0.63334413 -0.22407312 -2.31976357  0.6871356 ]\n",
      " [ 0.51066521 -0.93486154  1.29538898 -0.70750219  0.86947997]\n",
      " [-5.00888629 -0.81108386 -3.41146576  0.46779315  1.05886875]\n",
      " [-0.93105349 -1.91278838 -1.06762276 -2.41961365  1.17626798]\n",
      " [ 0.66143122  0.63846817  0.8965237  -2.74370517 -0.01329831]]\n"
     ]
    }
   ],
   "source": [
    "\n",
    "def mulpow(A, B, c, d) -> None:\n",
    "    condition1 = np.shape(A)\n",
    "    condition2 = np.shape(B)\n",
    "    if condition1[1] == condition2[0]:\n",
    "        if c != 1 and condition1[0] == condition1[1]:  \n",
    "            A = np.linalg.matrix_power( A, c)\n",
    "        else: \n",
    "            result = 'The firts matrix cannot be powered'\n",
    "        if d != 1 and condition2[0] == condition2[1]:\n",
    "            B = np.linalg.matrix_power( B, d)\n",
    "        else:\n",
    "            result = 'The second matrix cannot be powered'\n",
    "        result = np.matmul(A, B)\n",
    "    else:\n",
    "        result = 'Not dimensions coincidences'\n",
    "    return result\n",
    "\n",
    "if __name__ == '__main__':\n",
    "    print(mulpow(M1, M2, 1 , 1))       "
   ]
  },
  {
   "cell_type": "markdown",
   "metadata": {},
   "source": [
    "- Segundo punto"
   ]
  },
  {
   "cell_type": "code",
   "execution_count": 56,
   "metadata": {},
   "outputs": [],
   "source": [
    "A = np.matrix([[0.1,2],[2,0.1]])\n",
    "B = np.matrix([[1, 2, 3],[4, 5, 6]])\n",
    "C = np.matrix([[Fraction(5,3), Fraction(2,3)], [Fraction(5,3), Fraction(2,3)]])"
   ]
  },
  {
   "cell_type": "markdown",
   "metadata": {},
   "source": [
    "a."
   ]
  },
  {
   "cell_type": "code",
   "execution_count": 57,
   "metadata": {},
   "outputs": [],
   "source": [
    "i = mulpow(A, B.transpose() , 1, 1)\n",
    "ii = mulpow(A, B, 2, 1)\n",
    "iii = mulpow(B, C, 1, 3)\n",
    "iv = mulpow(B.transpose(), C, 1, 4)"
   ]
  },
  {
   "cell_type": "markdown",
   "metadata": {},
   "source": [
    "b."
   ]
  },
  {
   "cell_type": "code",
   "execution_count": 62,
   "metadata": {},
   "outputs": [],
   "source": [
    "# crea la ventan de la intefaz\n",
    "\n",
    "from unittest import result\n",
    "\n",
    "\n",
    "win = Tk()\n",
    "\n",
    "# le da dimensiones a la ventana \n",
    "win.geometry(\"400x120\")\n",
    "\n",
    "def save_data():\n",
    "   global entry\n",
    "   entrada1 = entry.get()\n",
    "   entrada2 = entry2.get()\n",
    "   resultado = mulpow(A, B, int(entrada1), int(entrada2))\n",
    "   print(resultado)\n",
    "   # label.configure(text = entrada1)\n",
    "\n",
    "# Label de interfaz\n",
    "label1 = Label(win, text =\"Ingrese el valor de c:\", font =(\"Arial 10 bold\"))\n",
    "label1.place(x = 50, y = 10)\n",
    "# label1.pack()\n",
    "\n",
    "# crea el frame de entrada\n",
    "entry = Entry(win, width = 20)\n",
    "entry.place(x = 200, y = 10)\n",
    "# entry.pack()\n",
    "\n",
    "# Label de interfaz\n",
    "label2 = Label(win, text =\"Ingrese el valor de d:\", font =(\"Arial 10 bold\"))\n",
    "label2.place(x = 50, y = 40)\n",
    "# label2.pack()\n",
    "\n",
    "# crea el frame de entrada \n",
    "entry2 = Entry(win, width = 20)\n",
    "entry2.place(x = 200, y = 40)\n",
    "# entry2.pack()\n",
    "\n",
    "# Crea el boton de ingreso\n",
    "btn = ttk.Button(win, text= \"Ingresar datos\",width= 20, command = save_data)\n",
    "btn.place(x = 200, y=65)\n",
    "\n",
    "if __name__ == '__main__':\n",
    "    win.mainloop()\n",
    "else:\n",
    "    print(\"The interface fail!\")"
   ]
  },
  {
   "cell_type": "markdown",
   "metadata": {},
   "source": [
    "- Tercer punto"
   ]
  },
  {
   "cell_type": "code",
   "execution_count": 108,
   "metadata": {},
   "outputs": [],
   "source": [
    "# creación de la matrix\n",
    "A3 = np.matrix([[3, 2, 2],[-2, 1, 4],[1, 0, 3],[5, -2, 1]])\n",
    "# print(len(A3.transpose()))\n",
    "# a3 = lambda M: M[1, i]*0.25 for i in range(len(A3.transpose())), M3\n",
    "A3[0,:] = A3[0,:]*1/4\n",
    "A3[:,1] = 3*A3[:,0] + A3[:,1]  \n",
    "A3[2,:] = -1*A3[0,:] + A3[2,:]\n",
    "A3[3,:] = -5*A3[0,:] + A3[3,:]\n",
    "data = A3[1,:]\n",
    "A3[1,:] = A3[3,:]\n",
    "A3[3,:] = data"
   ]
  }
 ],
 "metadata": {
  "kernelspec": {
   "display_name": "Python 3.8.3 ('base')",
   "language": "python",
   "name": "python3"
  },
  "language_info": {
   "codemirror_mode": {
    "name": "ipython",
    "version": 3
   },
   "file_extension": ".py",
   "mimetype": "text/x-python",
   "name": "python",
   "nbconvert_exporter": "python",
   "pygments_lexer": "ipython3",
   "version": "3.8.3"
  },
  "orig_nbformat": 4,
  "vscode": {
   "interpreter": {
    "hash": "730d47afa6baef76d00b59e5175e3c3e3200439a97b4bb643a0ebf81a0cbc729"
   }
  }
 },
 "nbformat": 4,
 "nbformat_minor": 2
}
